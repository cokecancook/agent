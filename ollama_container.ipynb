{
 "cells": [
  {
   "cell_type": "code",
   "execution_count": 1,
   "metadata": {},
   "outputs": [
    {
     "name": "stdout",
     "output_type": "stream",
     "text": [
      "I am an AI language model, and I am doing well, thank you for asking! I am always happy to assist you with your requests and provide you with helpful information and resources. How can I help you today?\n"
     ]
    }
   ],
   "source": [
    "import requests\n",
    "import json\n",
    "\n",
    "def generate_response(prompt):\n",
    "    url = \"http://localhost:11434/api/generate\"\n",
    "    payload = {\n",
    "        \"model\": \"gemma:2b\",\n",
    "        \"prompt\": prompt,\n",
    "        \"stream\": False\n",
    "    }\n",
    "    \n",
    "    response = requests.post(url, json=payload)\n",
    "    return response.json()\n",
    "\n",
    "# Example usage\n",
    "response = generate_response(\"Hello, how are you?\")\n",
    "print(response[\"response\"])"
   ]
  },
  {
   "cell_type": "code",
   "execution_count": 2,
   "metadata": {},
   "outputs": [
    {
     "name": "stdout",
     "output_type": "stream",
     "text": [
      "Model: gemma:2b\n",
      "Response: I am an AI language model, and I am doing well, thank you for asking! I am always happy to assist you with your requests and provide you with helpful information and resources. How can I help you today?\n",
      "Created at: 2025-06-13T15:52:06.678705629Z\n",
      "Done: True\n",
      "Done reason: stop\n",
      "\n",
      "Performance Metrics:\n",
      "Total duration: 7.430162879 seconds\n",
      "Load duration: 0.067281167 seconds\n",
      "Prompt eval count: 28\n",
      "Prompt eval duration: 1.708046417 seconds\n",
      "Eval count: 45\n",
      "Eval duration: 5.65369242 seconds\n"
     ]
    }
   ],
   "source": [
    "# Access different parts of the response\n",
    "print(\"Model:\", response[\"model\"])\n",
    "print(\"Response:\", response[\"response\"])\n",
    "print(\"Created at:\", response[\"created_at\"])\n",
    "print(\"Done:\", response[\"done\"])\n",
    "print(\"Done reason:\", response[\"done_reason\"])\n",
    "\n",
    "# Access performance metrics\n",
    "print(\"\\nPerformance Metrics:\")\n",
    "print(\"Total duration:\", response[\"total_duration\"] / 1e9, \"seconds\")  # Convert nanoseconds to seconds\n",
    "print(\"Load duration:\", response[\"load_duration\"] / 1e9, \"seconds\")\n",
    "print(\"Prompt eval count:\", response[\"prompt_eval_count\"])\n",
    "print(\"Prompt eval duration:\", response[\"prompt_eval_duration\"] / 1e9, \"seconds\")\n",
    "print(\"Eval count:\", response[\"eval_count\"])\n",
    "print(\"Eval duration:\", response[\"eval_duration\"] / 1e9, \"seconds\") "
   ]
  },
  {
   "cell_type": "code",
   "execution_count": null,
   "metadata": {},
   "outputs": [],
   "source": []
  }
 ],
 "metadata": {
  "kernelspec": {
   "display_name": ".venv",
   "language": "python",
   "name": "python3"
  },
  "language_info": {
   "codemirror_mode": {
    "name": "ipython",
    "version": 3
   },
   "file_extension": ".py",
   "mimetype": "text/x-python",
   "name": "python",
   "nbconvert_exporter": "python",
   "pygments_lexer": "ipython3",
   "version": "3.13.4"
  }
 },
 "nbformat": 4,
 "nbformat_minor": 2
}
